{
 "cells": [
  {
   "cell_type": "markdown",
   "metadata": {},
   "source": [
    "# Quandl API Challenge\n",
    "\n",
    "This technical interview is intended to give us a chance to assess your approach and experience with Data Science problems. It's not a coding quiz, don't worry about memorizing Numpy methods, but you will be expected to walk through your approach to complete a brief for a given dataset and reflect on potential applications for your approach in a business context.\n",
    "\n",
    "For this challenge we'll be exploring Quandl's APIs together and work on retrieving, manipulating and modeling a data resource available through the API. This is an open-ended exercise and doesn't have any right or wrong answers. We use a version of this exercise in some sessions for Digital Leadership audiences. Learners in these audiences are largely non-technical but may work together closely with engineers and data scientists. As we develop this notebook, imagine you may need to take these learners through the notebook.\n",
    "\n",
    "You're free to use the internet to look anything up if you need to. You're also free to ask your interviewer questions: the idea is for you to work together! "
   ]
  },
  {
   "cell_type": "markdown",
   "metadata": {},
   "source": [
    "## Getting started\n",
    "\n",
    "For this exercise we'll work with [Quandl](https://www.quandl.com/). We've set up a Quandl account and generated an API key you can use: `Byjzu4U8rmR1iEhZnp7V`. Before we dive into writing code, let's explore the Quandl platform and find an interesting (free) data source. Possible options are:\n",
    "\n",
    "1. [DJIA](https://www.quandl.com/search?filters=%5B%22Free%22%5D&query=Dow%20Jones%20Industrial%20Average)\n",
    "2. [Carbon Emissions](https://www.quandl.com/data/BP/C02_EMMISSIONS_USA-Carbon-Dioxide-CO2-Emmissions-USA)\n",
    "3. [Bitcoin](https://www.quandl.com/data/BCHAIN/MKPRU-Bitcoin-Market-Price-USD)\n",
    "\n",
    "In this notebook you have access to built-in Python 3 libraries as well as `matplotlib`, `numpy`, `pandas`, `quandl` and `fbprophet`. Let's break this exercise down into three parts: 1) retrieving data, 2) manipulating data, 3) modeling data. Section headers are pre-defined below just to give us some guidance, but other than that we're free to take any direction we like! Let's dive in."
   ]
  },
  {
   "cell_type": "code",
   "execution_count": 2,
   "metadata": {},
   "outputs": [],
   "source": [
    "# Configure Matplotlib\n",
    "%matplotlib inline"
   ]
  },
  {
   "cell_type": "markdown",
   "metadata": {},
   "source": [
    "## Retrieving data"
   ]
  },
  {
   "cell_type": "code",
   "execution_count": null,
   "metadata": {},
   "outputs": [],
   "source": []
  },
  {
   "cell_type": "markdown",
   "metadata": {},
   "source": [
    "## Manipulating data"
   ]
  },
  {
   "cell_type": "code",
   "execution_count": null,
   "metadata": {},
   "outputs": [],
   "source": []
  },
  {
   "cell_type": "markdown",
   "metadata": {},
   "source": [
    "## Modeling data"
   ]
  },
  {
   "cell_type": "code",
   "execution_count": null,
   "metadata": {},
   "outputs": [],
   "source": []
  }
 ],
 "metadata": {
  "kernelspec": {
   "display_name": "Python 3",
   "language": "python",
   "name": "python3"
  },
  "language_info": {
   "codemirror_mode": {
    "name": "ipython",
    "version": 3
   },
   "file_extension": ".py",
   "mimetype": "text/x-python",
   "name": "python",
   "nbconvert_exporter": "python",
   "pygments_lexer": "ipython3",
   "version": "3.8.5"
  }
 },
 "nbformat": 4,
 "nbformat_minor": 4
}
